{
  "nbformat": 4,
  "nbformat_minor": 0,
  "metadata": {
    "colab": {
      "provenance": []
    },
    "kernelspec": {
      "name": "python3",
      "display_name": "Python 3"
    },
    "language_info": {
      "name": "python"
    }
  },
  "cells": [
    {
      "cell_type": "markdown",
      "source": [
        "# Projet TAL\n",
        "\n"
      ],
      "metadata": {
        "id": "Qsr6dIgZl5SW"
      }
    },
    {
      "cell_type": "markdown",
      "source": [
        "## Ce document est composé comme suit :\n",
        "\n",
        "0. Importation des bibliothèques\n",
        "1. Observation des données\n",
        "2. Nettoyage\n",
        "  * V1(regex), V2(regex + stop words), V3(spacy)\n",
        "3. Encodage des labels\n",
        "4. TF-IDF\n",
        "5. TF-IDF + Baseline\n",
        "6. TF-IDF + SVM\n",
        "  * V1 normal\n",
        "  * V2 avec score pour l'analyse\n",
        "7. Analyse\n",
        "8. Autres modèles\n",
        "  * TF-IDF + GridSearch\n",
        "  * TF-IDF + XGB\n",
        "  * TF-IDF + Naïve Bayes\n",
        "  * TF-IDF + Random Forest\n",
        "9. Embeddings\n",
        "10. Embeddings + SVM\n",
        "11. Autres modèles\n",
        "  * Embeddings + Gaussian Naïve Bayes\n",
        "  * Embeddings + Random Forest"
      ],
      "metadata": {
        "id": "8lhP5j882uk5"
      }
    },
    {
      "cell_type": "markdown",
      "source": [
        "---\n",
        "---\n",
        "---"
      ],
      "metadata": {
        "id": "2otINrt8nsjf"
      }
    },
    {
      "cell_type": "markdown",
      "source": [
        "## Importation des bibliothèques"
      ],
      "metadata": {
        "id": "YHC-kaDpZjA7"
      }
    },
    {
      "cell_type": "code",
      "source": [
        "!python -m spacy download fr_core_news_md"
      ],
      "metadata": {
        "colab": {
          "base_uri": "https://localhost:8080/"
        },
        "id": "AC6o6yNek1QP",
        "outputId": "f37f0d2b-6137-47b0-ae08-dd1e34b2398f",
        "collapsed": true
      },
      "execution_count": null,
      "outputs": [
        {
          "output_type": "stream",
          "name": "stdout",
          "text": [
            "Collecting fr-core-news-md==3.7.0\n",
            "  Downloading https://github.com/explosion/spacy-models/releases/download/fr_core_news_md-3.7.0/fr_core_news_md-3.7.0-py3-none-any.whl (45.8 MB)\n",
            "\u001b[2K     \u001b[90m━━━━━━━━━━━━━━━━━━━━━━━━━━━━━━━━━━━━━━━━\u001b[0m \u001b[32m45.8/45.8 MB\u001b[0m \u001b[31m10.3 MB/s\u001b[0m eta \u001b[36m0:00:00\u001b[0m\n",
            "\u001b[?25hRequirement already satisfied: spacy<3.8.0,>=3.7.0 in /usr/local/lib/python3.11/dist-packages (from fr-core-news-md==3.7.0) (3.7.5)\n",
            "Requirement already satisfied: spacy-legacy<3.1.0,>=3.0.11 in /usr/local/lib/python3.11/dist-packages (from spacy<3.8.0,>=3.7.0->fr-core-news-md==3.7.0) (3.0.12)\n",
            "Requirement already satisfied: spacy-loggers<2.0.0,>=1.0.0 in /usr/local/lib/python3.11/dist-packages (from spacy<3.8.0,>=3.7.0->fr-core-news-md==3.7.0) (1.0.5)\n",
            "Requirement already satisfied: murmurhash<1.1.0,>=0.28.0 in /usr/local/lib/python3.11/dist-packages (from spacy<3.8.0,>=3.7.0->fr-core-news-md==3.7.0) (1.0.12)\n",
            "Requirement already satisfied: cymem<2.1.0,>=2.0.2 in /usr/local/lib/python3.11/dist-packages (from spacy<3.8.0,>=3.7.0->fr-core-news-md==3.7.0) (2.0.11)\n",
            "Requirement already satisfied: preshed<3.1.0,>=3.0.2 in /usr/local/lib/python3.11/dist-packages (from spacy<3.8.0,>=3.7.0->fr-core-news-md==3.7.0) (3.0.9)\n",
            "Requirement already satisfied: thinc<8.3.0,>=8.2.2 in /usr/local/lib/python3.11/dist-packages (from spacy<3.8.0,>=3.7.0->fr-core-news-md==3.7.0) (8.2.5)\n",
            "Requirement already satisfied: wasabi<1.2.0,>=0.9.1 in /usr/local/lib/python3.11/dist-packages (from spacy<3.8.0,>=3.7.0->fr-core-news-md==3.7.0) (1.1.3)\n",
            "Requirement already satisfied: srsly<3.0.0,>=2.4.3 in /usr/local/lib/python3.11/dist-packages (from spacy<3.8.0,>=3.7.0->fr-core-news-md==3.7.0) (2.5.1)\n",
            "Requirement already satisfied: catalogue<2.1.0,>=2.0.6 in /usr/local/lib/python3.11/dist-packages (from spacy<3.8.0,>=3.7.0->fr-core-news-md==3.7.0) (2.0.10)\n",
            "Requirement already satisfied: weasel<0.5.0,>=0.1.0 in /usr/local/lib/python3.11/dist-packages (from spacy<3.8.0,>=3.7.0->fr-core-news-md==3.7.0) (0.4.1)\n",
            "Requirement already satisfied: typer<1.0.0,>=0.3.0 in /usr/local/lib/python3.11/dist-packages (from spacy<3.8.0,>=3.7.0->fr-core-news-md==3.7.0) (0.15.2)\n",
            "Requirement already satisfied: tqdm<5.0.0,>=4.38.0 in /usr/local/lib/python3.11/dist-packages (from spacy<3.8.0,>=3.7.0->fr-core-news-md==3.7.0) (4.67.1)\n",
            "Requirement already satisfied: requests<3.0.0,>=2.13.0 in /usr/local/lib/python3.11/dist-packages (from spacy<3.8.0,>=3.7.0->fr-core-news-md==3.7.0) (2.32.3)\n",
            "Requirement already satisfied: pydantic!=1.8,!=1.8.1,<3.0.0,>=1.7.4 in /usr/local/lib/python3.11/dist-packages (from spacy<3.8.0,>=3.7.0->fr-core-news-md==3.7.0) (2.10.6)\n",
            "Requirement already satisfied: jinja2 in /usr/local/lib/python3.11/dist-packages (from spacy<3.8.0,>=3.7.0->fr-core-news-md==3.7.0) (3.1.6)\n",
            "Requirement already satisfied: setuptools in /usr/local/lib/python3.11/dist-packages (from spacy<3.8.0,>=3.7.0->fr-core-news-md==3.7.0) (75.1.0)\n",
            "Requirement already satisfied: packaging>=20.0 in /usr/local/lib/python3.11/dist-packages (from spacy<3.8.0,>=3.7.0->fr-core-news-md==3.7.0) (24.2)\n",
            "Requirement already satisfied: langcodes<4.0.0,>=3.2.0 in /usr/local/lib/python3.11/dist-packages (from spacy<3.8.0,>=3.7.0->fr-core-news-md==3.7.0) (3.5.0)\n",
            "Requirement already satisfied: numpy>=1.19.0 in /usr/local/lib/python3.11/dist-packages (from spacy<3.8.0,>=3.7.0->fr-core-news-md==3.7.0) (1.26.4)\n",
            "Requirement already satisfied: language-data>=1.2 in /usr/local/lib/python3.11/dist-packages (from langcodes<4.0.0,>=3.2.0->spacy<3.8.0,>=3.7.0->fr-core-news-md==3.7.0) (1.3.0)\n",
            "Requirement already satisfied: annotated-types>=0.6.0 in /usr/local/lib/python3.11/dist-packages (from pydantic!=1.8,!=1.8.1,<3.0.0,>=1.7.4->spacy<3.8.0,>=3.7.0->fr-core-news-md==3.7.0) (0.7.0)\n",
            "Requirement already satisfied: pydantic-core==2.27.2 in /usr/local/lib/python3.11/dist-packages (from pydantic!=1.8,!=1.8.1,<3.0.0,>=1.7.4->spacy<3.8.0,>=3.7.0->fr-core-news-md==3.7.0) (2.27.2)\n",
            "Requirement already satisfied: typing-extensions>=4.12.2 in /usr/local/lib/python3.11/dist-packages (from pydantic!=1.8,!=1.8.1,<3.0.0,>=1.7.4->spacy<3.8.0,>=3.7.0->fr-core-news-md==3.7.0) (4.12.2)\n",
            "Requirement already satisfied: charset-normalizer<4,>=2 in /usr/local/lib/python3.11/dist-packages (from requests<3.0.0,>=2.13.0->spacy<3.8.0,>=3.7.0->fr-core-news-md==3.7.0) (3.4.1)\n",
            "Requirement already satisfied: idna<4,>=2.5 in /usr/local/lib/python3.11/dist-packages (from requests<3.0.0,>=2.13.0->spacy<3.8.0,>=3.7.0->fr-core-news-md==3.7.0) (3.10)\n",
            "Requirement already satisfied: urllib3<3,>=1.21.1 in /usr/local/lib/python3.11/dist-packages (from requests<3.0.0,>=2.13.0->spacy<3.8.0,>=3.7.0->fr-core-news-md==3.7.0) (2.3.0)\n",
            "Requirement already satisfied: certifi>=2017.4.17 in /usr/local/lib/python3.11/dist-packages (from requests<3.0.0,>=2.13.0->spacy<3.8.0,>=3.7.0->fr-core-news-md==3.7.0) (2025.1.31)\n",
            "Requirement already satisfied: blis<0.8.0,>=0.7.8 in /usr/local/lib/python3.11/dist-packages (from thinc<8.3.0,>=8.2.2->spacy<3.8.0,>=3.7.0->fr-core-news-md==3.7.0) (0.7.11)\n",
            "Requirement already satisfied: confection<1.0.0,>=0.0.1 in /usr/local/lib/python3.11/dist-packages (from thinc<8.3.0,>=8.2.2->spacy<3.8.0,>=3.7.0->fr-core-news-md==3.7.0) (0.1.5)\n",
            "Requirement already satisfied: click>=8.0.0 in /usr/local/lib/python3.11/dist-packages (from typer<1.0.0,>=0.3.0->spacy<3.8.0,>=3.7.0->fr-core-news-md==3.7.0) (8.1.8)\n",
            "Requirement already satisfied: shellingham>=1.3.0 in /usr/local/lib/python3.11/dist-packages (from typer<1.0.0,>=0.3.0->spacy<3.8.0,>=3.7.0->fr-core-news-md==3.7.0) (1.5.4)\n",
            "Requirement already satisfied: rich>=10.11.0 in /usr/local/lib/python3.11/dist-packages (from typer<1.0.0,>=0.3.0->spacy<3.8.0,>=3.7.0->fr-core-news-md==3.7.0) (13.9.4)\n",
            "Requirement already satisfied: cloudpathlib<1.0.0,>=0.7.0 in /usr/local/lib/python3.11/dist-packages (from weasel<0.5.0,>=0.1.0->spacy<3.8.0,>=3.7.0->fr-core-news-md==3.7.0) (0.21.0)\n",
            "Requirement already satisfied: smart-open<8.0.0,>=5.2.1 in /usr/local/lib/python3.11/dist-packages (from weasel<0.5.0,>=0.1.0->spacy<3.8.0,>=3.7.0->fr-core-news-md==3.7.0) (7.1.0)\n",
            "Requirement already satisfied: MarkupSafe>=2.0 in /usr/local/lib/python3.11/dist-packages (from jinja2->spacy<3.8.0,>=3.7.0->fr-core-news-md==3.7.0) (3.0.2)\n",
            "Requirement already satisfied: marisa-trie>=1.1.0 in /usr/local/lib/python3.11/dist-packages (from language-data>=1.2->langcodes<4.0.0,>=3.2.0->spacy<3.8.0,>=3.7.0->fr-core-news-md==3.7.0) (1.2.1)\n",
            "Requirement already satisfied: markdown-it-py>=2.2.0 in /usr/local/lib/python3.11/dist-packages (from rich>=10.11.0->typer<1.0.0,>=0.3.0->spacy<3.8.0,>=3.7.0->fr-core-news-md==3.7.0) (3.0.0)\n",
            "Requirement already satisfied: pygments<3.0.0,>=2.13.0 in /usr/local/lib/python3.11/dist-packages (from rich>=10.11.0->typer<1.0.0,>=0.3.0->spacy<3.8.0,>=3.7.0->fr-core-news-md==3.7.0) (2.18.0)\n",
            "Requirement already satisfied: wrapt in /usr/local/lib/python3.11/dist-packages (from smart-open<8.0.0,>=5.2.1->weasel<0.5.0,>=0.1.0->spacy<3.8.0,>=3.7.0->fr-core-news-md==3.7.0) (1.17.2)\n",
            "Requirement already satisfied: mdurl~=0.1 in /usr/local/lib/python3.11/dist-packages (from markdown-it-py>=2.2.0->rich>=10.11.0->typer<1.0.0,>=0.3.0->spacy<3.8.0,>=3.7.0->fr-core-news-md==3.7.0) (0.1.2)\n",
            "Installing collected packages: fr-core-news-md\n",
            "Successfully installed fr-core-news-md-3.7.0\n",
            "\u001b[38;5;2m✔ Download and installation successful\u001b[0m\n",
            "You can now load the package via spacy.load('fr_core_news_md')\n",
            "\u001b[38;5;3m⚠ Restart to reload dependencies\u001b[0m\n",
            "If you are in a Jupyter or Colab notebook, you may need to restart Python in\n",
            "order to load all the package's dependencies. You can do this by selecting the\n",
            "'Restart kernel' or 'Restart runtime' option.\n"
          ]
        }
      ]
    },
    {
      "cell_type": "code",
      "source": [
        "!pip install gensim"
      ],
      "metadata": {
        "id": "hWGhaQ_pE2qr",
        "colab": {
          "base_uri": "https://localhost:8080/"
        },
        "outputId": "ea029225-aad8-49b7-f885-2c6d93a7541a",
        "collapsed": true
      },
      "execution_count": 3,
      "outputs": [
        {
          "output_type": "stream",
          "name": "stdout",
          "text": [
            "Collecting gensim\n",
            "  Downloading gensim-4.3.3-cp311-cp311-manylinux_2_17_x86_64.manylinux2014_x86_64.whl.metadata (8.1 kB)\n",
            "Collecting numpy<2.0,>=1.18.5 (from gensim)\n",
            "  Downloading numpy-1.26.4-cp311-cp311-manylinux_2_17_x86_64.manylinux2014_x86_64.whl.metadata (61 kB)\n",
            "\u001b[2K     \u001b[90m━━━━━━━━━━━━━━━━━━━━━━━━━━━━━━━━━━━━━━━━\u001b[0m \u001b[32m61.0/61.0 kB\u001b[0m \u001b[31m2.9 MB/s\u001b[0m eta \u001b[36m0:00:00\u001b[0m\n",
            "\u001b[?25hCollecting scipy<1.14.0,>=1.7.0 (from gensim)\n",
            "  Downloading scipy-1.13.1-cp311-cp311-manylinux_2_17_x86_64.manylinux2014_x86_64.whl.metadata (60 kB)\n",
            "\u001b[2K     \u001b[90m━━━━━━━━━━━━━━━━━━━━━━━━━━━━━━━━━━━━━━━━\u001b[0m \u001b[32m60.6/60.6 kB\u001b[0m \u001b[31m3.3 MB/s\u001b[0m eta \u001b[36m0:00:00\u001b[0m\n",
            "\u001b[?25hRequirement already satisfied: smart-open>=1.8.1 in /usr/local/lib/python3.11/dist-packages (from gensim) (7.1.0)\n",
            "Requirement already satisfied: wrapt in /usr/local/lib/python3.11/dist-packages (from smart-open>=1.8.1->gensim) (1.17.2)\n",
            "Downloading gensim-4.3.3-cp311-cp311-manylinux_2_17_x86_64.manylinux2014_x86_64.whl (26.7 MB)\n",
            "\u001b[2K   \u001b[90m━━━━━━━━━━━━━━━━━━━━━━━━━━━━━━━━━━━━━━━━\u001b[0m \u001b[32m26.7/26.7 MB\u001b[0m \u001b[31m18.2 MB/s\u001b[0m eta \u001b[36m0:00:00\u001b[0m\n",
            "\u001b[?25hDownloading numpy-1.26.4-cp311-cp311-manylinux_2_17_x86_64.manylinux2014_x86_64.whl (18.3 MB)\n",
            "\u001b[2K   \u001b[90m━━━━━━━━━━━━━━━━━━━━━━━━━━━━━━━━━━━━━━━━\u001b[0m \u001b[32m18.3/18.3 MB\u001b[0m \u001b[31m49.0 MB/s\u001b[0m eta \u001b[36m0:00:00\u001b[0m\n",
            "\u001b[?25hDownloading scipy-1.13.1-cp311-cp311-manylinux_2_17_x86_64.manylinux2014_x86_64.whl (38.6 MB)\n",
            "\u001b[2K   \u001b[90m━━━━━━━━━━━━━━━━━━━━━━━━━━━━━━━━━━━━━━━━\u001b[0m \u001b[32m38.6/38.6 MB\u001b[0m \u001b[31m11.3 MB/s\u001b[0m eta \u001b[36m0:00:00\u001b[0m\n",
            "\u001b[?25hInstalling collected packages: numpy, scipy, gensim\n",
            "  Attempting uninstall: numpy\n",
            "    Found existing installation: numpy 2.0.2\n",
            "    Uninstalling numpy-2.0.2:\n",
            "      Successfully uninstalled numpy-2.0.2\n",
            "  Attempting uninstall: scipy\n",
            "    Found existing installation: scipy 1.14.1\n",
            "    Uninstalling scipy-1.14.1:\n",
            "      Successfully uninstalled scipy-1.14.1\n",
            "Successfully installed gensim-4.3.3 numpy-1.26.4 scipy-1.13.1\n"
          ]
        }
      ]
    },
    {
      "cell_type": "code",
      "source": [
        "import pandas as pd\n",
        "import re\n",
        "import spacy\n",
        "from sklearn.preprocessing import LabelEncoder\n",
        "from sklearn.feature_extraction.text import TfidfVectorizer\n",
        "import numpy as np\n",
        "from sklearn.metrics import accuracy_score, classification_report\n",
        "from sklearn.svm import SVC\n",
        "from sklearn.metrics import roc_curve, auc\n",
        "import matplotlib.pyplot as plt\n",
        "from sklearn.preprocessing import label_binarize\n",
        "from sklearn.model_selection import GridSearchCV\n",
        "from xgboost import XGBClassifier\n",
        "from sklearn.naive_bayes import MultinomialNB\n",
        "from sklearn.ensemble import RandomForestClassifier\n",
        "import gensim\n",
        "from gensim.models import Word2Vec\n",
        "from sklearn.naive_bayes import GaussianNB"
      ],
      "metadata": {
        "id": "c0_RK8w8ZigC"
      },
      "execution_count": 1,
      "outputs": []
    },
    {
      "cell_type": "markdown",
      "source": [
        "## Observation des données\n"
      ],
      "metadata": {
        "id": "H6TlExtInwv3"
      }
    },
    {
      "cell_type": "code",
      "source": [
        "# Charger les fichiers\n",
        "df_train = pd.read_csv(\"../data/train.csv\")\n",
        "df_test = pd.read_csv(\"../data/test.csv\")"
      ],
      "metadata": {
        "id": "i-OxVjqNn2hI"
      },
      "execution_count": 2,
      "outputs": []
    },
    {
      "cell_type": "code",
      "source": [
        "print(df_train.info())  # Vérifier les types de données\n",
        "print(df_train.head())  # Afficher les premières lignes\n",
        "print(df_train.isnull().sum())  # Vérifier les valeurs manquantes\n",
        "print(df_train[\"type\"].value_counts())  # Répartition des classes\n",
        "print(df_train[\"recette\"].iloc[0])"
      ],
      "metadata": {
        "colab": {
          "base_uri": "https://localhost:8080/"
        },
        "collapsed": true,
        "id": "6T8NH1gSpHrx",
        "outputId": "fe67cfc7-d73b-4841-c7a4-466b72ae1d34"
      },
      "execution_count": 3,
      "outputs": [
        {
          "output_type": "stream",
          "name": "stdout",
          "text": [
            "<class 'pandas.core.frame.DataFrame'>\n",
            "RangeIndex: 12473 entries, 0 to 12472\n",
            "Data columns (total 7 columns):\n",
            " #   Column       Non-Null Count  Dtype \n",
            "---  ------       --------------  ----- \n",
            " 0   doc_id       12473 non-null  object\n",
            " 1   titre        12473 non-null  object\n",
            " 2   type         12473 non-null  object\n",
            " 3   difficulte   12473 non-null  object\n",
            " 4   cout         12473 non-null  object\n",
            " 5   ingredients  12473 non-null  object\n",
            " 6   recette      12473 non-null  object\n",
            "dtypes: object(7)\n",
            "memory usage: 682.2+ KB\n",
            "None\n",
            "               doc_id                                              titre  \\\n",
            "0  recette_221358.xml  Feuilleté de saumon et de poireau, sauce aux c...   \n",
            "1   recette_48656.xml                       Cake poulet/moutarde/amandes   \n",
            "2   recette_30049.xml           Bûche à la truite fumée (7ème rencontre)   \n",
            "3   recette_71424.xml    Gâteau au yaourt au coco sans huile de laetitia   \n",
            "4  recette_217204.xml                             Crêpes au canard laqué   \n",
            "\n",
            "             type             difficulte        cout  \\\n",
            "0  Plat principal                 Facile       Moyen   \n",
            "1          Entrée            Très facile  Bon marché   \n",
            "2          Entrée  Moyennement difficile  Assez Cher   \n",
            "3         Dessert            Très facile  Bon marché   \n",
            "4          Entrée  Moyennement difficile       Moyen   \n",
            "\n",
            "                                         ingredients  \\\n",
            "0  - 1 gros pavé de saumon - 100 g de crevettes d...   \n",
            "1  - 3 œufs - 150 g de farine - 1 sachet de levur...   \n",
            "2  - 800 g de filet de truite saumonnée fumée en ...   \n",
            "3  - 1 pot de yaourt - 1 pot de lait de coco - 3 ...   \n",
            "4  - 90 g de farine - 45 g de maïzena - 2 œufs - ...   \n",
            "\n",
            "                                             recette  \n",
            "0  Couper finement le blanc et un peu de vert des...  \n",
            "1  Couper finement l'échalote, la faire revenir à...  \n",
            "2  Faites blanchir les épinards à l'eau bouillant...  \n",
            "3  Mélanger dans l'ordre tous les ingrédients en ...  \n",
            "4  Fouetter les œufs avec l'eau, le lait et le su...  \n",
            "doc_id         0\n",
            "titre          0\n",
            "type           0\n",
            "difficulte     0\n",
            "cout           0\n",
            "ingredients    0\n",
            "recette        0\n",
            "dtype: int64\n",
            "type\n",
            "Plat principal    5802\n",
            "Dessert           3762\n",
            "Entrée            2909\n",
            "Name: count, dtype: int64\n",
            "Couper finement le blanc et un peu de vert des poireaux en rondelle. Éplucher et couper l'oignon. Faire chauffer l'huile d'olive et le beurre dans une poêle. Y faire revenir à feu doux les poireaux et l'oignon environ 15 minutes. En fin de cuisson ajouter le vin blanc, un peu d'aneth et du sel. Pendant ce temps faire cuire le saumon dans une poêle huilée. En fin de cuisson le faire griller sur feu vif. Préparer la sauce : mélanger les crevettes, le 1/2 citron jaune, la crème, le sel et l'aneth. Ajouter un peu de sauce à la préparation des poireaux. Préchauffer le four à 200°C (thermostat 6-7.Étaler la pâte feuilletée et la couper en 2. Sur une moitié disposer la préparation au poireaux. Disposer le saumon sur les poireaux. Y verser un peu de sauce sur le dessus (garder le reste de sauce au frigo). Refermer le chausson à l'aide de l'autre moitié de la pâte feuilleté. Bien appuyer sur les bords. Étaler le jaune d’œuf sur le dessus à l'aide d'un pinceau. Enfourner environ 20 minutes. Avant de servir chauffer la sauce et la servir à côté du feuilleté.On peut servir ce feuilleté avec une salade verte.\n"
          ]
        }
      ]
    },
    {
      "cell_type": "markdown",
      "source": [
        "* 7 Colones : doc_id, titre, type, difficulte, cout, ingredients, recette\n",
        "1. Pour train.csv :\n",
        "* Aucunes valeurs manquantes\n",
        "* Répartition des 3 types de plats (12473 plats):\n",
        "  * Plat principal    5802\n",
        "  * Dessert           3762\n",
        "  * Entrée            2909\n",
        "\n",
        "2. Pour test.csv :\n",
        "* Aucunes valeurs manquantes\n",
        "* Répartition des 3 types de plats (1388 plats):\n",
        "  * Plat principal    644\n",
        "  * Dessert           407\n",
        "  * Entrée            337"
      ],
      "metadata": {
        "id": "vsceW0KvroUB"
      }
    },
    {
      "cell_type": "markdown",
      "source": [
        "---\n",
        "\n",
        "## Nettoyage"
      ],
      "metadata": {
        "id": "UJCevRQnxUgg"
      }
    },
    {
      "cell_type": "markdown",
      "source": [
        "> Clean V1"
      ],
      "metadata": {
        "id": "mU_itjKWY0wm"
      }
    },
    {
      "cell_type": "code",
      "source": [
        "# Nettoyage du texte\n",
        "def clean_text(text):\n",
        "    text = re.sub(r'\\d+', '', text)  # Supprimer les chiffres\n",
        "    text = re.sub(r'[^\\w\\s]', '', text)  # Supprimer la ponctuation\n",
        "    return text\n",
        "\n",
        "df_train[\"texte\"] = (df_train[\"titre\"] + \" \" + df_train[\"recette\"]).apply(clean_text)\n",
        "df_test[\"texte\"] = (df_test[\"titre\"] + \" \" + df_test[\"recette\"]).apply(clean_text)\n",
        "\n",
        "print(df_train[\"texte\"].iloc[0])\n"
      ],
      "metadata": {
        "colab": {
          "base_uri": "https://localhost:8080/"
        },
        "id": "cXOIserkx9o4",
        "outputId": "c36292a7-cd7f-4ba4-dbd2-f2e5612334b0"
      },
      "execution_count": 4,
      "outputs": [
        {
          "output_type": "stream",
          "name": "stdout",
          "text": [
            "Feuilleté de saumon et de poireau sauce aux crevettes Couper finement le blanc et un peu de vert des poireaux en rondelle Éplucher et couper loignon Faire chauffer lhuile dolive et le beurre dans une poêle Y faire revenir à feu doux les poireaux et loignon environ  minutes En fin de cuisson ajouter le vin blanc un peu daneth et du sel Pendant ce temps faire cuire le saumon dans une poêle huilée En fin de cuisson le faire griller sur feu vif Préparer la sauce  mélanger les crevettes le  citron jaune la crème le sel et laneth Ajouter un peu de sauce à la préparation des poireaux Préchauffer le four à C thermostat Étaler la pâte feuilletée et la couper en  Sur une moitié disposer la préparation au poireaux Disposer le saumon sur les poireaux Y verser un peu de sauce sur le dessus garder le reste de sauce au frigo Refermer le chausson à laide de lautre moitié de la pâte feuilleté Bien appuyer sur les bords Étaler le jaune dœuf sur le dessus à laide dun pinceau Enfourner environ  minutes Avant de servir chauffer la sauce et la servir à côté du feuilletéOn peut servir ce feuilleté avec une salade verte\n"
          ]
        }
      ]
    },
    {
      "cell_type": "markdown",
      "source": [
        "> Clean V2"
      ],
      "metadata": {
        "id": "y7_YZeP5bDoM"
      }
    },
    {
      "cell_type": "code",
      "source": [
        "# Liste des stop words\n",
        "stopwords = set(\n",
        "    \"je tu il elle nous vous ils elles on me te se le la les de du des un une et à en pour avec que qui dans ne pas ce cette ces au aux son sa ses leur leurs y c\".split()\n",
        ")\n",
        "\n",
        "# Nettoyage du texte\n",
        "def clean_text_v2(text):\n",
        "    text = text.lower()  # Convertir en minuscules\n",
        "    text = re.sub(r'\\d+', '', text)  # Supprimer les chiffres\n",
        "    text = re.sub(r'[^\\w\\s]', '', text)  # Supprimer la ponctuation\n",
        "    text = re.sub(r'\\s+', ' ', text).strip()  # Supprimer les espaces inutiles\n",
        "    text = ' '.join([word for word in text.split() if word not in stopwords])  # Supprimer les stop words\n",
        "    return text\n",
        "\n",
        "# Application du nettoyage aux données\n",
        "df_train[\"texte\"] = (df_train[\"titre\"] + \" \" + df_train[\"recette\"]).apply(clean_text_v2)\n",
        "df_test[\"texte\"] = (df_test[\"titre\"] + \" \" + df_test[\"recette\"]).apply(clean_text_v2)\n",
        "\n",
        "print(df_train[\"texte\"].iloc[0])\n"
      ],
      "metadata": {
        "colab": {
          "base_uri": "https://localhost:8080/"
        },
        "id": "3rSZiTJvbAPS",
        "outputId": "2edac952-e6a3-4540-80fa-8353d95b59ce"
      },
      "execution_count": null,
      "outputs": [
        {
          "output_type": "stream",
          "name": "stdout",
          "text": [
            "feuilleté saumon poireau sauce crevettes couper finement blanc peu vert poireaux rondelle éplucher couper loignon faire chauffer lhuile dolive beurre poêle faire revenir feu doux poireaux loignon environ minutes fin cuisson ajouter vin blanc peu daneth sel pendant temps faire cuire saumon poêle huilée fin cuisson faire griller sur feu vif préparer sauce mélanger crevettes citron jaune crème sel laneth ajouter peu sauce préparation poireaux préchauffer four thermostat étaler pâte feuilletée couper sur moitié disposer préparation poireaux disposer saumon sur poireaux verser peu sauce sur dessus garder reste sauce frigo refermer chausson laide lautre moitié pâte feuilleté bien appuyer sur bords étaler jaune dœuf sur dessus laide dun pinceau enfourner environ minutes avant servir chauffer sauce servir côté feuilletéon peut servir feuilleté salade verte\n"
          ]
        }
      ]
    },
    {
      "cell_type": "markdown",
      "source": [
        "> Clean V3 (exec=9min)"
      ],
      "metadata": {
        "id": "uRKieKSVjI_6"
      }
    },
    {
      "cell_type": "code",
      "source": [
        "nlp = spacy.load(\"fr_core_news_md\")\n",
        "\n",
        "# Nettoyage du texte\n",
        "def clean_text_v3(text):\n",
        "    doc = nlp(text)\n",
        "    word = [token.lemma_ for token in doc if not token.is_stop and not token.is_punct]\n",
        "    return ' '.join(word)\n",
        "\n",
        "# Application du nettoyage aux données\n",
        "df_train[\"texte\"] = (df_train[\"titre\"] + \" \" + df_train[\"recette\"]).apply(clean_text_v3)\n",
        "df_test[\"texte\"] = (df_test[\"titre\"] + \" \" + df_test[\"recette\"]).apply(clean_text_v3)\n",
        "\n",
        "print(df_train[\"texte\"].iloc[0])"
      ],
      "metadata": {
        "colab": {
          "base_uri": "https://localhost:8080/"
        },
        "id": "dM2EVG_zjIn9",
        "outputId": "d880075f-89ee-4858-9bf1-e23f3f97dcef"
      },
      "execution_count": null,
      "outputs": [
        {
          "output_type": "stream",
          "name": "stdout",
          "text": [
            "Feuilleté saumon poireau sauce crevette couper finement blanc vert poireau rondelle éplucher couper oignon faire chauffer huile olive beurre poêle faire revenir feu doux poireau oignon 15 minute fin cuisson ajouter vin blanc aneth sel temps faire cuire saumon poêle huiler fin cuisson faire griller feu vif préparer sauce mélanger crevette 1/2 citron jaune crème sel aneth ajouter sauce préparation poireau préchauffer four 200 degré c thermostat 6 7.étaler pâte feuilleter couper 2 moitié disposer préparation poireau disposer saumon poireau verser sauce garder sauce frigo refermer chausson aide moitié pâte feuilleté bien appuyer bord étaler jaune œuf aide pinceau enfourner 20 minute servir chauffer sauce servir côté feuilleté servir feuilleté salade vert\n"
          ]
        }
      ]
    },
    {
      "cell_type": "markdown",
      "source": [
        "---\n",
        "## Encodage des labels"
      ],
      "metadata": {
        "id": "YbJ-QneizG3C"
      }
    },
    {
      "cell_type": "code",
      "source": [
        "# Encodage des labels\n",
        "encoder = LabelEncoder()\n",
        "df_train[\"label\"] = encoder.fit_transform(df_train[\"type\"])  # 0 = Dessert, 1 = Entrée, 2 = Plat principal\n",
        "df_test[\"label\"] = encoder.transform(df_test[\"type\"])\n",
        "\n",
        "print(df_train[\"label\"].value_counts())\n"
      ],
      "metadata": {
        "colab": {
          "base_uri": "https://localhost:8080/"
        },
        "id": "_LKZA6BczPMB",
        "outputId": "c4ca9ce4-79b6-4088-bcc2-2d253c8f3fda"
      },
      "execution_count": 5,
      "outputs": [
        {
          "output_type": "stream",
          "name": "stdout",
          "text": [
            "label\n",
            "2    5802\n",
            "0    3762\n",
            "1    2909\n",
            "Name: count, dtype: int64\n"
          ]
        }
      ]
    },
    {
      "cell_type": "markdown",
      "source": [
        "---\n",
        "## TF-IDF"
      ],
      "metadata": {
        "id": "ufQ6nmQhwcMZ"
      }
    },
    {
      "cell_type": "code",
      "source": [
        "# TF-IDF\n",
        "vectorizer = TfidfVectorizer(max_features=5000, sublinear_tf=True)\n",
        "X_train = vectorizer.fit_transform(df_train[\"texte\"])\n",
        "X_test = vectorizer.transform(df_test[\"texte\"])\n",
        "y_train = df_train[\"label\"]\n",
        "y_test = df_test[\"label\"]\n",
        "\n",
        "print(X_train.shape, X_test.shape)"
      ],
      "metadata": {
        "id": "TUWQNHNJs6tJ",
        "colab": {
          "base_uri": "https://localhost:8080/"
        },
        "outputId": "41fce91c-1613-4157-b29a-2b9b457fe418"
      },
      "execution_count": 6,
      "outputs": [
        {
          "output_type": "stream",
          "name": "stdout",
          "text": [
            "(12473, 5000) (1388, 5000)\n"
          ]
        }
      ]
    },
    {
      "cell_type": "markdown",
      "source": [
        "---\n",
        "## Baseline\n"
      ],
      "metadata": {
        "id": "V-XUzVux_uSt"
      }
    },
    {
      "cell_type": "code",
      "source": [
        "# Classes cibles\n",
        "labels = df_train[\"label\"].unique()\n",
        "\n",
        "# Générer des prédictions aléatoires\n",
        "y_pred_random = np.random.choice(labels, size=len(y_test))  # Taille égale à celle de y_test\n",
        "\n",
        "# Évaluation des prédictions aléatoires\n",
        "print(\"Accuracy:\", accuracy_score(y_test, y_pred_random))\n",
        "print(\"Classification Report:\\n\", classification_report(y_test, y_pred_random))\n"
      ],
      "metadata": {
        "colab": {
          "base_uri": "https://localhost:8080/"
        },
        "id": "JFE6vgUI_xWb",
        "outputId": "ddef525a-a515-4213-cd49-1e6a6edba424"
      },
      "execution_count": null,
      "outputs": [
        {
          "output_type": "stream",
          "name": "stdout",
          "text": [
            "Accuracy: 0.3314121037463977\n",
            "Classification Report:\n",
            "               precision    recall  f1-score   support\n",
            "\n",
            "           0       0.31      0.36      0.33       407\n",
            "           1       0.23      0.31      0.27       337\n",
            "           2       0.45      0.32      0.38       644\n",
            "\n",
            "    accuracy                           0.33      1388\n",
            "   macro avg       0.33      0.33      0.33      1388\n",
            "weighted avg       0.36      0.33      0.34      1388\n",
            "\n"
          ]
        }
      ]
    },
    {
      "cell_type": "markdown",
      "source": [
        "### Résultats\n",
        "Mauvais avec environ 0.33 d'accuracy"
      ],
      "metadata": {
        "id": "j8PBNmZHBzcf"
      }
    },
    {
      "cell_type": "markdown",
      "source": [
        "---\n",
        "## Entraînement SVM avec TF-IDF (exec=2min)\n"
      ],
      "metadata": {
        "id": "XGwA8jf41JPb"
      }
    },
    {
      "cell_type": "markdown",
      "source": [
        "> V1"
      ],
      "metadata": {
        "id": "h6EZHTFK6fyp"
      }
    },
    {
      "cell_type": "code",
      "source": [
        "# Initialiser et entraîner le modèle\n",
        "model = SVC(kernel=\"rbf\")\n",
        "model.fit(X_train, y_train)\n",
        "\n",
        "# Prédictions\n",
        "y_pred = model.predict(X_test)\n",
        "\n",
        "# Évaluation\n",
        "print(\"Accuracy:\", accuracy_score(y_test, y_pred))\n",
        "print(\"Classification Report:\\n\", classification_report(y_test, y_pred))\n"
      ],
      "metadata": {
        "colab": {
          "base_uri": "https://localhost:8080/"
        },
        "outputId": "67092294-49aa-462d-dbc4-0a30d125664c",
        "id": "Zc1y9G4flM94"
      },
      "execution_count": 7,
      "outputs": [
        {
          "output_type": "stream",
          "name": "stdout",
          "text": [
            "Accuracy: 0.8912103746397695\n",
            "Classification Report:\n",
            "               precision    recall  f1-score   support\n",
            "\n",
            "           0       0.98      0.99      0.99       407\n",
            "           1       0.81      0.75      0.78       337\n",
            "           2       0.88      0.90      0.89       644\n",
            "\n",
            "    accuracy                           0.89      1388\n",
            "   macro avg       0.89      0.88      0.88      1388\n",
            "weighted avg       0.89      0.89      0.89      1388\n",
            "\n"
          ]
        }
      ]
    },
    {
      "cell_type": "markdown",
      "source": [
        "### Résultats\n",
        "Très bon avec 0.891 d'accuracy"
      ],
      "metadata": {
        "id": "QNQkLo8tCO08"
      }
    },
    {
      "cell_type": "markdown",
      "source": [
        "### Entraînement SVM avec TF-IDF (avec les probabilités d'apartenance)(exec=11min)"
      ],
      "metadata": {
        "id": "KfuHrH10lSyc"
      }
    },
    {
      "cell_type": "markdown",
      "source": [
        "> V2"
      ],
      "metadata": {
        "id": "ahQwPYNO6ioH"
      }
    },
    {
      "cell_type": "code",
      "source": [
        "# Initialiser et entraîner le modèle\n",
        "model = SVC(kernel=\"rbf\", probability=True)\n",
        "model.fit(X_train, y_train)\n",
        "\n",
        "# Prédictions\n",
        "y_pred = model.predict(X_test)\n",
        "\n",
        "# Prédire les probabilités\n",
        "y_scores = model.predict_proba(X_test)\n",
        "\n",
        "# Évaluation\n",
        "print(y_scores[:5])  # Affiche les premières probabilités\n",
        "print(\"Accuracy:\", accuracy_score(y_test, y_pred))\n",
        "print(\"Classification Report:\\n\", classification_report(y_test, y_pred))\n"
      ],
      "metadata": {
        "id": "qUiZe8pY17al",
        "colab": {
          "base_uri": "https://localhost:8080/"
        },
        "outputId": "baf7b924-0e2a-4f75-c180-b9e7d68d21c0"
      },
      "execution_count": null,
      "outputs": [
        {
          "output_type": "stream",
          "name": "stdout",
          "text": [
            "[[9.99556257e-01 3.56462438e-04 8.72801643e-05]\n",
            " [9.95580218e-01 9.79853507e-04 3.43992866e-03]\n",
            " [7.74069745e-04 4.38380181e-02 9.55387912e-01]\n",
            " [1.05289014e-03 1.13521509e-01 8.85425601e-01]\n",
            " [4.26950948e-05 9.39095904e-01 6.08614007e-02]]\n",
            "Accuracy: 0.8912103746397695\n",
            "Classification Report:\n",
            "               precision    recall  f1-score   support\n",
            "\n",
            "           0       0.98      0.99      0.99       407\n",
            "           1       0.81      0.75      0.78       337\n",
            "           2       0.88      0.90      0.89       644\n",
            "\n",
            "    accuracy                           0.89      1388\n",
            "   macro avg       0.89      0.88      0.88      1388\n",
            "weighted avg       0.89      0.89      0.89      1388\n",
            "\n"
          ]
        }
      ]
    },
    {
      "cell_type": "markdown",
      "source": [
        "# Analyse"
      ],
      "metadata": {
        "id": "ouaZGssPfsg-"
      }
    },
    {
      "cell_type": "code",
      "source": [
        "print(\"Nombre de documents avec un score de 0 :\", np.sum(y_scores == 0))\n",
        "print(\"Nombre de documents avec un score de 0.5 :\", np.sum(y_scores == 0.5))\n",
        "print(\"Nombre de documents avec un score de 1 :\", np.sum(y_scores == 1))\n",
        "print(\"----------\")\n",
        "print(\"Nombre de documents avec un score < 0.05 :\", np.sum(y_scores < 0.05))\n",
        "print(\"Nombre de documents avec un score entre 0.4 et 0.6 :\", np.sum((y_scores > 0.4) & (y_scores < 0.6)))\n",
        "print(\"Nombre de documents avec un score > 0.95 :\", np.sum(y_scores > 0.95))"
      ],
      "metadata": {
        "colab": {
          "base_uri": "https://localhost:8080/"
        },
        "id": "e4Zem7pkfssi",
        "outputId": "474933ee-ede1-4d1e-b801-ac8777b4b5c7"
      },
      "execution_count": null,
      "outputs": [
        {
          "output_type": "stream",
          "name": "stdout",
          "text": [
            "Nombre de documents avec un score de 0 : 0\n",
            "Nombre de documents avec un score de 0.5 : 0\n",
            "Nombre de documents avec un score de 1 : 0\n",
            "Nombre de documents avec un score de 1 : 4164\n",
            "----------\n",
            "Nombre de documents avec un score < 0.05 : 2050\n",
            "Nombre de documents avec un score entre 0.4 et 0.6 : 183\n",
            "Nombre de documents avec un score > 0.95 : 678\n"
          ]
        }
      ]
    },
    {
      "cell_type": "markdown",
      "source": [
        "SVM n’est pas un modèle 100% sûr donc les scores sont proches mais pas égale à 1 ou 0.\n",
        "\n",
        "On interprête ici sur 3 classe x 1338 recettes = 4164 cas\n",
        "\n",
        "Le modèle est très confiant pour 678 cas. \\\n",
        "Le modèle rejette fortement certaines classes pour 2050 cas. \\\n",
        "Le modèle ne sait pas bien classer 183 cas."
      ],
      "metadata": {
        "id": "213zJgOhlyqH"
      }
    },
    {
      "cell_type": "markdown",
      "source": [
        "### Courbe ROC :"
      ],
      "metadata": {
        "id": "gjEGd4JSf5Ba"
      }
    },
    {
      "cell_type": "code",
      "source": [
        "# Binariser les labels pour multi-classes (ex: 3 classes → one-hot encoding)\n",
        "y_test_bin = label_binarize(y_test, classes=[0, 1, 2])\n",
        "\n",
        "# Initialiser la figure\n",
        "plt.figure(figsize=(8, 6))\n",
        "colors = ['blue', 'red', 'green']\n",
        "\n",
        "# Tracer une courbe ROC par classe\n",
        "for i in range(3):  # 3 classes\n",
        "    fpr, tpr, _ = roc_curve(y_test_bin[:, i], y_scores[:, i])\n",
        "    roc_auc = auc(fpr, tpr)\n",
        "    plt.plot(fpr, tpr, color=colors[i], label=f'Classe {i} (AUC = {roc_auc:.2f})')\n",
        "\n",
        "# Ajouter une diagonale (modèle aléatoire)\n",
        "plt.plot([0, 1], [0, 1], color='grey', linestyle='--')\n",
        "\n",
        "# Labels et affichage\n",
        "plt.xlabel('Taux de faux positifs (FPR)')\n",
        "plt.ylabel('Taux de vrais positifs (TPR)')\n",
        "plt.title('Courbe ROC multi-classe (One-vs-Rest)')\n",
        "plt.legend(loc='lower right')\n",
        "plt.show()\n"
      ],
      "metadata": {
        "colab": {
          "base_uri": "https://localhost:8080/",
          "height": 564
        },
        "id": "__n0Qtu9f5LZ",
        "outputId": "57c624df-1ec1-48b9-b204-674a39c03b59"
      },
      "execution_count": null,
      "outputs": [
        {
          "output_type": "display_data",
          "data": {
            "text/plain": [
              "<Figure size 800x600 with 1 Axes>"
            ],
            "image/png": "[encoded data removed]"
          },
          "metadata": {}
        }
      ]
    },
    {
      "cell_type": "markdown",
      "source": [
        " ### Interprétation\n",
        " Classe 0 = Dessert, Classe 1 = Entrée, Classe 2 = Plat principal\n",
        "\n",
        " Classes 1 et 2 ont quelques erreurs mais restent très bien séparées. \\\n",
        " Classe 0 est classée de manière prèsque parfaite."
      ],
      "metadata": {
        "id": "z5MlxtN9k88w"
      }
    },
    {
      "cell_type": "markdown",
      "source": [
        "Cas de prédiction incorrecte :"
      ],
      "metadata": {
        "id": "XpOxDhxVwni3"
      }
    },
    {
      "cell_type": "code",
      "source": [
        "# Obtenir les prédictions du modèle\n",
        "y_pred = model.predict(X_test)\n",
        "\n",
        "# Ajouter les résultats à un DataFrame pour analyse\n",
        "df_test_results = df_test.copy()\n",
        "df_test_results[\"y_true\"] = y_test\n",
        "df_test_results[\"y_pred\"] = y_pred\n",
        "\n",
        "# Identifier les erreurs\n",
        "df_errors = df_test_results[df_test_results[\"y_true\"] != df_test_results[\"y_pred\"]]\n",
        "\n",
        "df_errors.head(5)\n"
      ],
      "metadata": {
        "colab": {
          "base_uri": "https://localhost:8080/"
        },
        "collapsed": true,
        "id": "BGGaNTGGwnLW",
        "outputId": "a005d707-9896-4398-dde7-ae94c6a3b895"
      },
      "execution_count": null,
      "outputs": [
        {
          "output_type": "execute_result",
          "data": {
            "text/plain": [
              "                doc_id                              titre            type  \\\n",
              "26   recette_20525.xml  Soupe d'hiver aux pommes de terre  Plat principal   \n",
              "47  recette_173201.xml               Le grillé aux Pommes         Dessert   \n",
              "49   recette_60844.xml           Salade de pâtes fraîches          Entrée   \n",
              "56   recette_73239.xml     Tarte au thon et tomate facile          Entrée   \n",
              "57   recette_58672.xml           Chausson vichy au jambon          Entrée   \n",
              "\n",
              "     difficulte        cout  \\\n",
              "26  Très facile  Bon marché   \n",
              "47       Facile  Bon marché   \n",
              "49       Facile  Bon marché   \n",
              "56  Très facile  Bon marché   \n",
              "57       Facile  Bon marché   \n",
              "\n",
              "                                          ingredients  \\\n",
              "26  - 10 grandes pommes de terre farineuses - 4 ca...   \n",
              "47  - 1 pâte feuilletée - -3 pommes - -50g de beur...   \n",
              "49  - 2 petites courgettes bio, jaune et verte - 1...   \n",
              "56  - 1 pâte feuilletée - thon naturel en boîte - ...   \n",
              "57  - 1 pâte feuilletée - 4 tranches de jambon bla...   \n",
              "\n",
              "                                              recette  \\\n",
              "26  Faire cuire les pommes de terre dans de l'eau ...   \n",
              "47  Préchauffez votre four a 175°C (th6). -Dans la...   \n",
              "49  Faites cuire les torsades al dente avec un bou...   \n",
              "56  Couper 1 oignon en petits morceaux et le faire...   \n",
              "57  Préchauffer le four à 190°C (thermostat 6-7). ...   \n",
              "\n",
              "                                                texte  label  \\\n",
              "26  Soupe dhiver aux pommes de terre Faire cuire l...      2   \n",
              "47  Le grillé aux Pommes Préchauffez votre four a ...      0   \n",
              "49  Salade de pâtes fraîches Faites cuire les tors...      1   \n",
              "56  Tarte au thon et tomate facile Couper  oignon ...      1   \n",
              "57  Chausson vichy au jambon Préchauffer le four à...      1   \n",
              "\n",
              "                                               tokens  y_true  y_pred  \n",
              "26  [Soupe, dhiver, aux, pommes, de, terre, Faire,...       2       1  \n",
              "47  [Le, grillé, aux, Pommes, Préchauffez, votre, ...       0       2  \n",
              "49  [Salade, de, pâtes, fraîches, Faites, cuire, l...       1       2  \n",
              "56  [Tarte, au, thon, et, tomate, facile, Couper, ...       1       2  \n",
              "57  [Chausson, vichy, au, jambon, Préchauffer, le,...       1       2  "
            ],
            "text/html": [
              "\n",
              "  <div id=\"df-14cfa7b6-242b-4334-844f-f4d0202bb766\" class=\"colab-df-container\">\n",
              "    <div>\n",
              "<style scoped>\n",
              "    .dataframe tbody tr th:only-of-type {\n",
              "        vertical-align: middle;\n",
              "    }\n",
              "\n",
              "    .dataframe tbody tr th {\n",
              "        vertical-align: top;\n",
              "    }\n",
              "\n",
              "    .dataframe thead th {\n",
              "        text-align: right;\n",
              "    }\n",
              "</style>\n",
              "<table border=\"1\" class=\"dataframe\">\n",
              "  <thead>\n",
              "    <tr style=\"text-align: right;\">\n",
              "      <th></th>\n",
              "      <th>doc_id</th>\n",
              "      <th>titre</th>\n",
              "      <th>type</th>\n",
              "      <th>difficulte</th>\n",
              "      <th>cout</th>\n",
              "      <th>ingredients</th>\n",
              "      <th>recette</th>\n",
              "      <th>texte</th>\n",
              "      <th>label</th>\n",
              "      <th>tokens</th>\n",
              "      <th>y_true</th>\n",
              "      <th>y_pred</th>\n",
              "    </tr>\n",
              "  </thead>\n",
              "  <tbody>\n",
              "    <tr>\n",
              "      <th>26</th>\n",
              "      <td>recette_20525.xml</td>\n",
              "      <td>Soupe d'hiver aux pommes de terre</td>\n",
              "      <td>Plat principal</td>\n",
              "      <td>Très facile</td>\n",
              "      <td>Bon marché</td>\n",
              "      <td>- 10 grandes pommes de terre farineuses - 4 ca...</td>\n",
              "      <td>Faire cuire les pommes de terre dans de l'eau ...</td>\n",
              "      <td>Soupe dhiver aux pommes de terre Faire cuire l...</td>\n",
              "      <td>2</td>\n",
              "      <td>[Soupe, dhiver, aux, pommes, de, terre, Faire,...</td>\n",
              "      <td>2</td>\n",
              "      <td>1</td>\n",
              "    </tr>\n",
              "    <tr>\n",
              "      <th>47</th>\n",
              "      <td>recette_173201.xml</td>\n",
              "      <td>Le grillé aux Pommes</td>\n",
              "      <td>Dessert</td>\n",
              "      <td>Facile</td>\n",
              "      <td>Bon marché</td>\n",
              "      <td>- 1 pâte feuilletée - -3 pommes - -50g de beur...</td>\n",
              "      <td>Préchauffez votre four a 175°C (th6). -Dans la...</td>\n",
              "      <td>Le grillé aux Pommes Préchauffez votre four a ...</td>\n",
              "      <td>0</td>\n",
              "      <td>[Le, grillé, aux, Pommes, Préchauffez, votre, ...</td>\n",
              "      <td>0</td>\n",
              "      <td>2</td>\n",
              "    </tr>\n",
              "    <tr>\n",
              "      <th>49</th>\n",
              "      <td>recette_60844.xml</td>\n",
              "      <td>Salade de pâtes fraîches</td>\n",
              "      <td>Entrée</td>\n",
              "      <td>Facile</td>\n",
              "      <td>Bon marché</td>\n",
              "      <td>- 2 petites courgettes bio, jaune et verte - 1...</td>\n",
              "      <td>Faites cuire les torsades al dente avec un bou...</td>\n",
              "      <td>Salade de pâtes fraîches Faites cuire les tors...</td>\n",
              "      <td>1</td>\n",
              "      <td>[Salade, de, pâtes, fraîches, Faites, cuire, l...</td>\n",
              "      <td>1</td>\n",
              "      <td>2</td>\n",
              "    </tr>\n",
              "    <tr>\n",
              "      <th>56</th>\n",
              "      <td>recette_73239.xml</td>\n",
              "      <td>Tarte au thon et tomate facile</td>\n",
              "      <td>Entrée</td>\n",
              "      <td>Très facile</td>\n",
              "      <td>Bon marché</td>\n",
              "      <td>- 1 pâte feuilletée - thon naturel en boîte - ...</td>\n",
              "      <td>Couper 1 oignon en petits morceaux et le faire...</td>\n",
              "      <td>Tarte au thon et tomate facile Couper  oignon ...</td>\n",
              "      <td>1</td>\n",
              "      <td>[Tarte, au, thon, et, tomate, facile, Couper, ...</td>\n",
              "      <td>1</td>\n",
              "      <td>2</td>\n",
              "    </tr>\n",
              "    <tr>\n",
              "      <th>57</th>\n",
              "      <td>recette_58672.xml</td>\n",
              "      <td>Chausson vichy au jambon</td>\n",
              "      <td>Entrée</td>\n",
              "      <td>Facile</td>\n",
              "      <td>Bon marché</td>\n",
              "      <td>- 1 pâte feuilletée - 4 tranches de jambon bla...</td>\n",
              "      <td>Préchauffer le four à 190°C (thermostat 6-7). ...</td>\n",
              "      <td>Chausson vichy au jambon Préchauffer le four à...</td>\n",
              "      <td>1</td>\n",
              "      <td>[Chausson, vichy, au, jambon, Préchauffer, le,...</td>\n",
              "      <td>1</td>\n",
              "      <td>2</td>\n",
              "    </tr>\n",
              "  </tbody>\n",
              "</table>\n",
              "</div>\n",
              "    <div class=\"colab-df-buttons\">\n",
              "\n",
              "  <div class=\"colab-df-container\">\n",
              "    <button class=\"colab-df-convert\" onclick=\"convertToInteractive('df-14cfa7b6-242b-4334-844f-f4d0202bb766')\"\n",
              "            title=\"Convert this dataframe to an interactive table.\"\n",
              "            style=\"display:none;\">\n",
              "\n",
              "  <svg xmlns=\"http://www.w3.org/2000/svg\" height=\"24px\" viewBox=\"0 -960 960 960\">\n",
              "    <path d=\"M120-120v-720h720v720H120Zm60-500h600v-160H180v160Zm220 220h160v-160H400v160Zm0 220h160v-160H400v160ZM180-400h160v-160H180v160Zm440 0h160v-160H620v160ZM180-180h160v-160H180v160Zm440 0h160v-160H620v160Z\"/>\n",
              "  </svg>\n",
              "    </button>\n",
              "\n",
              "  <style>\n",
              "    .colab-df-container {\n",
              "      display:flex;\n",
              "      gap: 12px;\n",
              "    }\n",
              "\n",
              "    .colab-df-convert {\n",
              "      background-color: #E8F0FE;\n",
              "      border: none;\n",
              "      border-radius: 50%;\n",
              "      cursor: pointer;\n",
              "      display: none;\n",
              "      fill: #1967D2;\n",
              "      height: 32px;\n",
              "      padding: 0 0 0 0;\n",
              "      width: 32px;\n",
              "    }\n",
              "\n",
              "    .colab-df-convert:hover {\n",
              "      background-color: #E2EBFA;\n",
              "      box-shadow: 0px 1px 2px rgba(60, 64, 67, 0.3), 0px 1px 3px 1px rgba(60, 64, 67, 0.15);\n",
              "      fill: #174EA6;\n",
              "    }\n",
              "\n",
              "    .colab-df-buttons div {\n",
              "      margin-bottom: 4px;\n",
              "    }\n",
              "\n",
              "    [theme=dark] .colab-df-convert {\n",
              "      background-color: #3B4455;\n",
              "      fill: #D2E3FC;\n",
              "    }\n",
              "\n",
              "    [theme=dark] .colab-df-convert:hover {\n",
              "      background-color: #434B5C;\n",
              "      box-shadow: 0px 1px 3px 1px rgba(0, 0, 0, 0.15);\n",
              "      filter: drop-shadow(0px 1px 2px rgba(0, 0, 0, 0.3));\n",
              "      fill: #FFFFFF;\n",
              "    }\n",
              "  </style>\n",
              "\n",
              "    <script>\n",
              "      const buttonEl =\n",
              "        document.querySelector('#df-14cfa7b6-242b-4334-844f-f4d0202bb766 button.colab-df-convert');\n",
              "      buttonEl.style.display =\n",
              "        google.colab.kernel.accessAllowed ? 'block' : 'none';\n",
              "\n",
              "      async function convertToInteractive(key) {\n",
              "        const element = document.querySelector('#df-14cfa7b6-242b-4334-844f-f4d0202bb766');\n",
              "        const dataTable =\n",
              "          await google.colab.kernel.invokeFunction('convertToInteractive',\n",
              "                                                    [key], {});\n",
              "        if (!dataTable) return;\n",
              "\n",
              "        const docLinkHtml = 'Like what you see? Visit the ' +\n",
              "          '<a target=\"_blank\" href=https://colab.research.google.com/notebooks/data_table.ipynb>data table notebook</a>'\n",
              "          + ' to learn more about interactive tables.';\n",
              "        element.innerHTML = '';\n",
              "        dataTable['output_type'] = 'display_data';\n",
              "        await google.colab.output.renderOutput(dataTable, element);\n",
              "        const docLink = document.createElement('div');\n",
              "        docLink.innerHTML = docLinkHtml;\n",
              "        element.appendChild(docLink);\n",
              "      }\n",
              "    </script>\n",
              "  </div>\n",
              "\n",
              "\n",
              "<div id=\"df-5b67df2e-e639-4c18-8d98-d5a6db320328\">\n",
              "  <button class=\"colab-df-quickchart\" onclick=\"quickchart('df-5b67df2e-e639-4c18-8d98-d5a6db320328')\"\n",
              "            title=\"Suggest charts\"\n",
              "            style=\"display:none;\">\n",
              "\n",
              "<svg xmlns=\"http://www.w3.org/2000/svg\" height=\"24px\"viewBox=\"0 0 24 24\"\n",
              "     width=\"24px\">\n",
              "    <g>\n",
              "        <path d=\"M19 3H5c-1.1 0-2 .9-2 2v14c0 1.1.9 2 2 2h14c1.1 0 2-.9 2-2V5c0-1.1-.9-2-2-2zM9 17H7v-7h2v7zm4 0h-2V7h2v10zm4 0h-2v-4h2v4z\"/>\n",
              "    </g>\n",
              "</svg>\n",
              "  </button>\n",
              "\n",
              "<style>\n",
              "  .colab-df-quickchart {\n",
              "      --bg-color: #E8F0FE;\n",
              "      --fill-color: #1967D2;\n",
              "      --hover-bg-color: #E2EBFA;\n",
              "      --hover-fill-color: #174EA6;\n",
              "      --disabled-fill-color: #AAA;\n",
              "      --disabled-bg-color: #DDD;\n",
              "  }\n",
              "\n",
              "  [theme=dark] .colab-df-quickchart {\n",
              "      --bg-color: #3B4455;\n",
              "      --fill-color: #D2E3FC;\n",
              "      --hover-bg-color: #434B5C;\n",
              "      --hover-fill-color: #FFFFFF;\n",
              "      --disabled-bg-color: #3B4455;\n",
              "      --disabled-fill-color: #666;\n",
              "  }\n",
              "\n",
              "  .colab-df-quickchart {\n",
              "    background-color: var(--bg-color);\n",
              "    border: none;\n",
              "    border-radius: 50%;\n",
              "    cursor: pointer;\n",
              "    display: none;\n",
              "    fill: var(--fill-color);\n",
              "    height: 32px;\n",
              "    padding: 0;\n",
              "    width: 32px;\n",
              "  }\n",
              "\n",
              "  .colab-df-quickchart:hover {\n",
              "    background-color: var(--hover-bg-color);\n",
              "    box-shadow: 0 1px 2px rgba(60, 64, 67, 0.3), 0 1px 3px 1px rgba(60, 64, 67, 0.15);\n",
              "    fill: var(--button-hover-fill-color);\n",
              "  }\n",
              "\n",
              "  .colab-df-quickchart-complete:disabled,\n",
              "  .colab-df-quickchart-complete:disabled:hover {\n",
              "    background-color: var(--disabled-bg-color);\n",
              "    fill: var(--disabled-fill-color);\n",
              "    box-shadow: none;\n",
              "  }\n",
              "\n",
              "  .colab-df-spinner {\n",
              "    border: 2px solid var(--fill-color);\n",
              "    border-color: transparent;\n",
              "    border-bottom-color: var(--fill-color);\n",
              "    animation:\n",
              "      spin 1s steps(1) infinite;\n",
              "  }\n",
              "\n",
              "  @keyframes spin {\n",
              "    0% {\n",
              "      border-color: transparent;\n",
              "      border-bottom-color: var(--fill-color);\n",
              "      border-left-color: var(--fill-color);\n",
              "    }\n",
              "    20% {\n",
              "      border-color: transparent;\n",
              "      border-left-color: var(--fill-color);\n",
              "      border-top-color: var(--fill-color);\n",
              "    }\n",
              "    30% {\n",
              "      border-color: transparent;\n",
              "      border-left-color: var(--fill-color);\n",
              "      border-top-color: var(--fill-color);\n",
              "      border-right-color: var(--fill-color);\n",
              "    }\n",
              "    40% {\n",
              "      border-color: transparent;\n",
              "      border-right-color: var(--fill-color);\n",
              "      border-top-color: var(--fill-color);\n",
              "    }\n",
              "    60% {\n",
              "      border-color: transparent;\n",
              "      border-right-color: var(--fill-color);\n",
              "    }\n",
              "    80% {\n",
              "      border-color: transparent;\n",
              "      border-right-color: var(--fill-color);\n",
              "      border-bottom-color: var(--fill-color);\n",
              "    }\n",
              "    90% {\n",
              "      border-color: transparent;\n",
              "      border-bottom-color: var(--fill-color);\n",
              "    }\n",
              "  }\n",
              "</style>\n",
              "\n",
              "  <script>\n",
              "    async function quickchart(key) {\n",
              "      const quickchartButtonEl =\n",
              "        document.querySelector('#' + key + ' button');\n",
              "      quickchartButtonEl.disabled = true;  // To prevent multiple clicks.\n",
              "      quickchartButtonEl.classList.add('colab-df-spinner');\n",
              "      try {\n",
              "        const charts = await google.colab.kernel.invokeFunction(\n",
              "            'suggestCharts', [key], {});\n",
              "      } catch (error) {\n",
              "        console.error('Error during call to suggestCharts:', error);\n",
              "      }\n",
              "      quickchartButtonEl.classList.remove('colab-df-spinner');\n",
              "      quickchartButtonEl.classList.add('colab-df-quickchart-complete');\n",
              "    }\n",
              "    (() => {\n",
              "      let quickchartButtonEl =\n",
              "        document.querySelector('#df-5b67df2e-e639-4c18-8d98-d5a6db320328 button');\n",
              "      quickchartButtonEl.style.display =\n",
              "        google.colab.kernel.accessAllowed ? 'block' : 'none';\n",
              "    })();\n",
              "  </script>\n",
              "</div>\n",
              "\n",
              "    </div>\n",
              "  </div>\n"
            ],
            "application/vnd.google.colaboratory.intrinsic+json": {
              "type": "dataframe",
              "variable_name": "df_errors",
              "summary": "{\n  \"name\": \"df_errors\",\n  \"rows\": 151,\n  \"fields\": [\n    {\n      \"column\": \"doc_id\",\n      \"properties\": {\n        \"dtype\": \"string\",\n        \"num_unique_values\": 151,\n        \"samples\": [\n          \"recette_85398.xml\",\n          \"recette_36239.xml\",\n          \"recette_217734.xml\"\n        ],\n        \"semantic_type\": \"\",\n        \"description\": \"\"\n      }\n    },\n    {\n      \"column\": \"titre\",\n      \"properties\": {\n        \"dtype\": \"string\",\n        \"num_unique_values\": 151,\n        \"samples\": [\n          \"Feuillet\\u00e9 \\u00e0 la fourme\",\n          \"Blinis de potiron\",\n          \"Salade de pommes de terre \\u00e0 la souabe\"\n        ],\n        \"semantic_type\": \"\",\n        \"description\": \"\"\n      }\n    },\n    {\n      \"column\": \"type\",\n      \"properties\": {\n        \"dtype\": \"category\",\n        \"num_unique_values\": 3,\n        \"samples\": [\n          \"Plat principal\",\n          \"Dessert\",\n          \"Entr\\u00e9e\"\n        ],\n        \"semantic_type\": \"\",\n        \"description\": \"\"\n      }\n    },\n    {\n      \"column\": \"difficulte\",\n      \"properties\": {\n        \"dtype\": \"category\",\n        \"num_unique_values\": 4,\n        \"samples\": [\n          \"Facile\",\n          \"Difficile\",\n          \"Tr\\u00e8s facile\"\n        ],\n        \"semantic_type\": \"\",\n        \"description\": \"\"\n      }\n    },\n    {\n      \"column\": \"cout\",\n      \"properties\": {\n        \"dtype\": \"category\",\n        \"num_unique_values\": 3,\n        \"samples\": [\n          \"Bon march\\u00e9\",\n          \"Moyen\",\n          \"Assez Cher\"\n        ],\n        \"semantic_type\": \"\",\n        \"description\": \"\"\n      }\n    },\n    {\n      \"column\": \"ingredients\",\n      \"properties\": {\n        \"dtype\": \"string\",\n        \"num_unique_values\": 151,\n        \"samples\": [\n          \"- 1 grosse tomate- 1 aubergine- 4 tranches de brioche (environ 120 g)- 4 cuill\\u00e8res \\u00e0 soupe de cr\\u00e8me fraiche- 50 g de fourme d'Ambert- sel et poivre- 2 cuill\\u00e8res \\u00e0 soupe d'huile d'olive\",\n          \"- 500 g de potiron - 25 cl de lait - 150 g de farine - 1 cuill\\u00e8re \\u00e0 caf\\u00e9 de levure chimique - 3 oeufs - un filet d'huile - un soup\\u00e7on de piment en poudre (Cayenne ou autre) pour relever - sel\",\n          \"- 8 pommes de terre type pur\\u00e9e - 1 cube de bouillon de b\\u0153uf - 2 oignons - 2 cuill\\u00e8res \\u00e0 soupe de vinaigre - 1 cuill\\u00e8re \\u00e0 soupe de moutarde - poivre - un peu d'huile\"\n        ],\n        \"semantic_type\": \"\",\n        \"description\": \"\"\n      }\n    },\n    {\n      \"column\": \"recette\",\n      \"properties\": {\n        \"dtype\": \"string\",\n        \"num_unique_values\": 151,\n        \"samples\": [\n          \"Faire 4 belles tranches d'aubergine et de tomate. Les faire revenir de chaque c\\u00f4t\\u00e9 dans une po\\u00eale avec de l'huile d'olive, saler et poivrer. Faire griller les 4 tranches de brioche (pas trop, elles vont repasser au four...). Faire monter la cr\\u00e8me fraiche avec un fouet. Couper la fourme en 4 tranches fines. Sur une plaque, empiler la brioche, la cr\\u00e8me fraiche, l'aubergine, la tomate, et recouvrir de fourme (cela donne 4 petits \\\"feuillet\\u00e9s\\\"). Enfourner 8 min \\u00e0 210\\u00b0C (thermostat 7), le temps que la fourme fonde... (Augmenter la dur\\u00e9e de la cuisson, si n\\u00e9cessaire). Servir d\\u00e9cor\\u00e9 avec des cerneaux de noix, par exemple.Plat pas tr\\u00e8s copieux, bien pour le soir (si vous avez peur de manquer, faites-en trois par personne, mais deux \\u00e7a m'a largement suffit!). Sinon, vous pouvez le proposer en entr\\u00e9e (mais c'est une entr\\u00e9e copieuse, m\\u00eame avec 1 seul par personne).\",\n          \"Cuire le potiron au micro-ondes environ 10 min suivant la force du four, jusqu'\\u00e0 ce que la chair soit tendre. Puis, gratter la chair et l'ajouter au lait pr\\u00e9alablement chauff\\u00e9. Mixer. Dans un r\\u00e9cipient, m\\u00e9langer la farine et la levure, ajouter les oeufs et un filet d'huile pour \\u00e9viter que les blinis n'attachent. Incorporer le potiron et assaisonner en ajoutant une pinc\\u00e9e de sel et le piment en poudre. M\\u00e9langer pour obtenir une p\\u00e2te homog\\u00e8ne et laisser reposer une heure (facultatif si vous \\u00eates press\\u00e9s ou gourmands). La p\\u00e2te ne doit pas \\u00eatre vraiment \\u00e9paisse. Verser une petite louche de p\\u00e2te dans la po\\u00eale chaude et huil\\u00e9e et cuire quelques minutes de chaque c\\u00f4t\\u00e9 comme une cr\\u00eape. On peut en faire plusieurs \\u00e0 la fois selon la taille de la po\\u00eale. Les blinis doivent \\u00eatre souples et dor\\u00e9s sur le dessus. Les servir chauds avec un oeuf au plat dont le jaune est encore liquide : un r\\u00e9gal ! Tr\\u00e8s fins au go\\u00fbt, ces blinis sont particuli\\u00e8rement d\\u00e9licieux avec un accompagnement qui n'est pas trop sec (oeuf au plat, sauces au fromage, \\u00e0 l'avocat,...)\",\n          \"Faire cuire les pommes de terre en robe des champs. Pendant ce temps, \\u00e9mincer les oignons et mettre un cube de bouillon \\u00e0 chauffer dans un quart d'eau. Dans un saladier, mettre les oignons et la moutarde.D\\u00e8s que les pommes de terre sont cuites, les \\u00e9plucher et les couper dans le saladier sans les laisser refroidir. Ajouter progressivement le bouillon br\\u00fblant. Les pommes de terre doivent \\u00eatre tr\\u00e8s chaudes pour absorber le liquide. Une fois toutes les pommes de terre coup\\u00e9es, m\\u00e9langer pour qu'elles absorbent le liquide. Il ne doit plus y avoir de liquide dans le saladier. Adapter la quantit\\u00e9 de bouillon en fonction de la qualit\\u00e9 d'absorption des pommes de terre ; donc le verser au fur et \\u00e0 mesure que vous coupez les pommes de terre en tranches. Ajouter le vinaigre et le poivre. Surtout ne pas saler \\u00e0 cause du bouillon de b\\u0153uf qui l'est d\\u00e9j\\u00e0 ! Verser un filet d'huile (pas d'huile d'olive).Laisser reposer et ajuster l'assaisonnement. Cette salade n'est pas pr\\u00e9sentable \\u00e0 cause des pommes de terre qui partent en pur\\u00e9e, mais elle est excellente et tr\\u00e8s digeste.Cette recette vient de la r\\u00e9gion d'Allemagne du Baden Wurtemberg, la r\\u00e9gion souabe. J'ai v\\u00e9cu onze ans \\u00e0 Stuttgart et j'ai d\\u00e9couvert cette recette l\\u00e0-bas. Depuis mon retour en France, elle r\\u00e9gale ma famille et mes amis !\"\n        ],\n        \"semantic_type\": \"\",\n        \"description\": \"\"\n      }\n    },\n    {\n      \"column\": \"texte\",\n      \"properties\": {\n        \"dtype\": \"string\",\n        \"num_unique_values\": 151,\n        \"samples\": [\n          \"Feuillet\\u00e9 \\u00e0 la fourme Faire  belles tranches daubergine et de tomate Les faire revenir de chaque c\\u00f4t\\u00e9 dans une po\\u00eale avec de lhuile dolive saler et poivrer Faire griller les  tranches de brioche pas trop elles vont repasser au four Faire monter la cr\\u00e8me fraiche avec un fouet Couper la fourme en  tranches fines Sur une plaque empiler la brioche la cr\\u00e8me fraiche laubergine la tomate et recouvrir de fourme cela donne  petits feuillet\\u00e9s Enfourner  min \\u00e0 C thermostat  le temps que la fourme fonde Augmenter la dur\\u00e9e de la cuisson si n\\u00e9cessaire Servir d\\u00e9cor\\u00e9 avec des cerneaux de noix par exemplePlat pas tr\\u00e8s copieux bien pour le soir si vous avez peur de manquer faitesen trois par personne mais deux \\u00e7a ma largement suffit Sinon vous pouvez le proposer en entr\\u00e9e mais cest une entr\\u00e9e copieuse m\\u00eame avec  seul par personne\",\n          \"Blinis de potiron Cuire le potiron au microondes environ  min suivant la force du four jusqu\\u00e0 ce que la chair soit tendre Puis gratter la chair et lajouter au lait pr\\u00e9alablement chauff\\u00e9 Mixer Dans un r\\u00e9cipient m\\u00e9langer la farine et la levure ajouter les oeufs et un filet dhuile pour \\u00e9viter que les blinis nattachent Incorporer le potiron et assaisonner en ajoutant une pinc\\u00e9e de sel et le piment en poudre M\\u00e9langer pour obtenir une p\\u00e2te homog\\u00e8ne et laisser reposer une heure facultatif si vous \\u00eates press\\u00e9s ou gourmands La p\\u00e2te ne doit pas \\u00eatre vraiment \\u00e9paisse Verser une petite louche de p\\u00e2te dans la po\\u00eale chaude et huil\\u00e9e et cuire quelques minutes de chaque c\\u00f4t\\u00e9 comme une cr\\u00eape On peut en faire plusieurs \\u00e0 la fois selon la taille de la po\\u00eale Les blinis doivent \\u00eatre souples et dor\\u00e9s sur le dessus Les servir chauds avec un oeuf au plat dont le jaune est encore liquide  un r\\u00e9gal  Tr\\u00e8s fins au go\\u00fbt ces blinis sont particuli\\u00e8rement d\\u00e9licieux avec un accompagnement qui nest pas trop sec oeuf au plat sauces au fromage \\u00e0 lavocat\",\n          \"Salade de pommes de terre \\u00e0 la souabe Faire cuire les pommes de terre en robe des champs Pendant ce temps \\u00e9mincer les oignons et mettre un cube de bouillon \\u00e0 chauffer dans un quart deau Dans un saladier mettre les oignons et la moutardeD\\u00e8s que les pommes de terre sont cuites les \\u00e9plucher et les couper dans le saladier sans les laisser refroidir Ajouter progressivement le bouillon br\\u00fblant Les pommes de terre doivent \\u00eatre tr\\u00e8s chaudes pour absorber le liquide Une fois toutes les pommes de terre coup\\u00e9es m\\u00e9langer pour quelles absorbent le liquide Il ne doit plus y avoir de liquide dans le saladier Adapter la quantit\\u00e9 de bouillon en fonction de la qualit\\u00e9 dabsorption des pommes de terre  donc le verser au fur et \\u00e0 mesure que vous coupez les pommes de terre en tranches Ajouter le vinaigre et le poivre Surtout ne pas saler \\u00e0 cause du bouillon de b\\u0153uf qui lest d\\u00e9j\\u00e0  Verser un filet dhuile pas dhuile doliveLaisser reposer et ajuster lassaisonnement Cette salade nest pas pr\\u00e9sentable \\u00e0 cause des pommes de terre qui partent en pur\\u00e9e mais elle est excellente et tr\\u00e8s digesteCette recette vient de la r\\u00e9gion dAllemagne du Baden Wurtemberg la r\\u00e9gion souabe Jai v\\u00e9cu onze ans \\u00e0 Stuttgart et jai d\\u00e9couvert cette recette l\\u00e0bas Depuis mon retour en France elle r\\u00e9gale ma famille et mes amis \"\n        ],\n        \"semantic_type\": \"\",\n        \"description\": \"\"\n      }\n    },\n    {\n      \"column\": \"label\",\n      \"properties\": {\n        \"dtype\": \"number\",\n        \"std\": 0,\n        \"min\": 0,\n        \"max\": 2,\n        \"num_unique_values\": 3,\n        \"samples\": [\n          2,\n          0,\n          1\n        ],\n        \"semantic_type\": \"\",\n        \"description\": \"\"\n      }\n    },\n    {\n      \"column\": \"tokens\",\n      \"properties\": {\n        \"dtype\": \"object\",\n        \"semantic_type\": \"\",\n        \"description\": \"\"\n      }\n    },\n    {\n      \"column\": \"y_true\",\n      \"properties\": {\n        \"dtype\": \"number\",\n        \"std\": 0,\n        \"min\": 0,\n        \"max\": 2,\n        \"num_unique_values\": 3,\n        \"samples\": [\n          2,\n          0,\n          1\n        ],\n        \"semantic_type\": \"\",\n        \"description\": \"\"\n      }\n    },\n    {\n      \"column\": \"y_pred\",\n      \"properties\": {\n        \"dtype\": \"number\",\n        \"std\": 0,\n        \"min\": 0,\n        \"max\": 2,\n        \"num_unique_values\": 3,\n        \"samples\": [\n          1,\n          2,\n          0\n        ],\n        \"semantic_type\": \"\",\n        \"description\": \"\"\n      }\n    }\n  ]\n}"
            }
          },
          "metadata": {},
          "execution_count": 64
        }
      ]
    },
    {
      "cell_type": "markdown",
      "source": [
        "### Matrice de confusion :"
      ],
      "metadata": {
        "id": "UMjqNyfbxczn"
      }
    },
    {
      "cell_type": "code",
      "source": [
        "# Tableau des erreurs de classification\n",
        "confusion_matrix = pd.crosstab(df_test_results[\"y_true\"], df_test_results[\"y_pred\"], rownames=[\"Vrai\"], colnames=[\"Prédit\"])\n",
        "\n",
        "print(confusion_matrix)\n"
      ],
      "metadata": {
        "colab": {
          "base_uri": "https://localhost:8080/"
        },
        "id": "EIkQApwUxc9D",
        "outputId": "6135f6f4-689b-4e16-9bf5-6c851f276a07"
      },
      "execution_count": null,
      "outputs": [
        {
          "output_type": "stream",
          "name": "stdout",
          "text": [
            "Prédit    0    1    2\n",
            "Vrai                 \n",
            "0       404    1    2\n",
            "1         4  252   81\n",
            "2         4   59  581\n"
          ]
        }
      ]
    },
    {
      "cell_type": "markdown",
      "source": [
        "Le modèle se trompe majoritairement sur la différence entre les classes 'plat principal' et 'entrée'."
      ],
      "metadata": {
        "id": "M2Zfon9Xx4Ww"
      }
    },
    {
      "cell_type": "markdown",
      "source": [
        "---\n",
        "## Autres modèles"
      ],
      "metadata": {
        "id": "-2d4eD_19tjG"
      }
    },
    {
      "cell_type": "markdown",
      "source": [
        "### TF-IDF + GridSearch (exec=8min):"
      ],
      "metadata": {
        "id": "7wh6wzeUZqfS"
      }
    },
    {
      "cell_type": "code",
      "source": [
        "# Définir la grille de paramètres\n",
        "param_grid = {\n",
        "    'C': [1],\n",
        "    'kernel': ['rbf']\n",
        "}\n",
        "\n",
        "# Création du modèle avec recherche des meilleurs hyperparamètres\n",
        "svm = SVC()\n",
        "grid_search = GridSearchCV(svm, param_grid, scoring='accuracy', n_jobs=-1)\n",
        "grid_search.fit(X_train, y_train)\n",
        "\n",
        "# Meilleur modèle\n",
        "best_svm = grid_search.best_estimator_\n",
        "print(\"Meilleurs paramètres :\", grid_search.best_params_)\n",
        "\n",
        "# Évaluation sur le test\n",
        "y_pred = best_svm.predict(X_test)\n",
        "print(\"Optimized SVM Accuracy:\", accuracy_score(y_test, y_pred))\n",
        "print(\"Classification Report:\\n\", classification_report(y_test, y_pred))\n"
      ],
      "metadata": {
        "colab": {
          "base_uri": "https://localhost:8080/"
        },
        "id": "p-6Xh0ucjiV7",
        "outputId": "70742c53-630b-4778-d545-e0240f650af2"
      },
      "execution_count": null,
      "outputs": [
        {
          "output_type": "stream",
          "name": "stdout",
          "text": [
            "Meilleurs paramètres : {'C': 1, 'kernel': 'rbf'}\n",
            "Optimized SVM Accuracy: 0.8912103746397695\n",
            "Classification Report:\n",
            "               precision    recall  f1-score   support\n",
            "\n",
            "           0       0.98      0.99      0.99       407\n",
            "           1       0.81      0.75      0.78       337\n",
            "           2       0.88      0.90      0.89       644\n",
            "\n",
            "    accuracy                           0.89      1388\n",
            "   macro avg       0.89      0.88      0.88      1388\n",
            "weighted avg       0.89      0.89      0.89      1388\n",
            "\n"
          ]
        }
      ]
    },
    {
      "cell_type": "markdown",
      "source": [
        "GridSearch : 0.891 d'accuracy car c'est les meilleurs paramètres de SVC()"
      ],
      "metadata": {
        "id": "gjKych9It1Vz"
      }
    },
    {
      "cell_type": "markdown",
      "source": [
        "### TF-IDF + XGB (exec=3min30s):"
      ],
      "metadata": {
        "id": "X9lplBMoZ2Q3"
      }
    },
    {
      "cell_type": "code",
      "source": [
        "xgb = XGBClassifier(n_estimators=200, learning_rate=0.1, max_depth=6)\n",
        "xgb.fit(X_train, y_train)\n",
        "\n",
        "y_pred_xgb = xgb.predict(X_test)\n",
        "print(\"XGBoost Accuracy:\", accuracy_score(y_test, y_pred_xgb))\n",
        "print(\"Classification Report:\\n\", classification_report(y_test, y_pred_xgb))\n"
      ],
      "metadata": {
        "colab": {
          "base_uri": "https://localhost:8080/"
        },
        "id": "kFxkWVRsfkVL",
        "outputId": "53d2446b-580a-4968-dd8f-64d77b5b50ba"
      },
      "execution_count": null,
      "outputs": [
        {
          "output_type": "stream",
          "name": "stdout",
          "text": [
            "XGBoost Accuracy: 0.8631123919308358\n",
            "Classification Report:\n",
            "               precision    recall  f1-score   support\n",
            "\n",
            "           0       0.98      0.98      0.98       407\n",
            "           1       0.76      0.68      0.72       337\n",
            "           2       0.84      0.89      0.86       644\n",
            "\n",
            "    accuracy                           0.86      1388\n",
            "   macro avg       0.86      0.85      0.85      1388\n",
            "weighted avg       0.86      0.86      0.86      1388\n",
            "\n"
          ]
        }
      ]
    },
    {
      "cell_type": "markdown",
      "source": [
        "XGB: 0.86 d'accuracy"
      ],
      "metadata": {
        "id": "AULLp2fZuNgb"
      }
    },
    {
      "cell_type": "markdown",
      "source": [
        "### TF-IDF + Naïve Bayes(exec=1s):"
      ],
      "metadata": {
        "id": "W3fzBbz2aa4e"
      }
    },
    {
      "cell_type": "code",
      "source": [
        "# Modèle Naïve Bayes (bon pour du texte)\n",
        "model_nb = MultinomialNB()\n",
        "model_nb.fit(X_train, y_train)\n",
        "y_pred_nb = model_nb.predict(X_test)\n",
        "print(\"Naïve Bayes Accuracy:\", accuracy_score(y_test, y_pred_nb))\n",
        "print(\"Naïve Bayes Classification Report:\\n\", classification_report(y_test, y_pred_nb))\n"
      ],
      "metadata": {
        "colab": {
          "base_uri": "https://localhost:8080/"
        },
        "outputId": "d12bea7e-eb85-4a8a-a17c-96566db18556",
        "id": "amJYdtV-xyaX"
      },
      "execution_count": null,
      "outputs": [
        {
          "output_type": "stream",
          "name": "stdout",
          "text": [
            "Naïve Bayes Accuracy: 0.8350144092219021\n",
            "Naïve Bayes Classification Report:\n",
            "               precision    recall  f1-score   support\n",
            "\n",
            "           0       0.95      0.98      0.97       407\n",
            "           1       0.80      0.47      0.59       337\n",
            "           2       0.78      0.93      0.85       644\n",
            "\n",
            "    accuracy                           0.84      1388\n",
            "   macro avg       0.84      0.80      0.80      1388\n",
            "weighted avg       0.84      0.84      0.82      1388\n",
            "\n"
          ]
        }
      ]
    },
    {
      "cell_type": "markdown",
      "source": [
        "Naïves Bayes : 0.83 d'accuracy"
      ],
      "metadata": {
        "id": "En54nRUZuZqQ"
      }
    },
    {
      "cell_type": "markdown",
      "source": [
        "### TF-IDF + Random Forest (exec=30s):"
      ],
      "metadata": {
        "id": "B32Z2QE6d1el"
      }
    },
    {
      "cell_type": "code",
      "source": [
        "# Modèle Random Forest\n",
        "model_rf = RandomForestClassifier(n_estimators=100, random_state=42)\n",
        "model_rf.fit(X_train, y_train)\n",
        "y_pred_rf = model_rf.predict(X_test)\n",
        "print(\"Random Forest Accuracy:\", accuracy_score(y_test, y_pred_rf))\n",
        "print(\"Random Forest Classification Report:\\n\", classification_report(y_test, y_pred_rf))"
      ],
      "metadata": {
        "colab": {
          "base_uri": "https://localhost:8080/"
        },
        "id": "zDTgroAAan6v",
        "outputId": "ff99be65-2a76-4462-95de-0a297ef06611"
      },
      "execution_count": null,
      "outputs": [
        {
          "output_type": "stream",
          "name": "stdout",
          "text": [
            "Random Forest Accuracy: 0.8342939481268011\n",
            "Random Forest Classification Report:\n",
            "               precision    recall  f1-score   support\n",
            "\n",
            "           0       0.95      0.99      0.97       407\n",
            "           1       0.83      0.44      0.57       337\n",
            "           2       0.77      0.94      0.85       644\n",
            "\n",
            "    accuracy                           0.83      1388\n",
            "   macro avg       0.85      0.79      0.80      1388\n",
            "weighted avg       0.84      0.83      0.82      1388\n",
            "\n"
          ]
        }
      ]
    },
    {
      "cell_type": "markdown",
      "source": [
        "Random Forest : 0.83 d'accuracy"
      ],
      "metadata": {
        "id": "JE5Hu8asCP79"
      }
    },
    {
      "cell_type": "markdown",
      "source": [
        "---\n",
        "## Test avec embeddings à la place de TF-IDF"
      ],
      "metadata": {
        "id": "-LVuGbVcGK7F"
      }
    },
    {
      "cell_type": "code",
      "source": [
        "# Tokenisation : transformer chaque texte en liste de mots\n",
        "df_train[\"tokens\"] = df_train[\"texte\"].apply(lambda x: x.split())\n",
        "df_test[\"tokens\"] = df_test[\"texte\"].apply(lambda x: x.split())"
      ],
      "metadata": {
        "id": "AyTBDjWIEpq5"
      },
      "execution_count": null,
      "outputs": []
    },
    {
      "cell_type": "markdown",
      "source": [
        "Utilisation de Word2Vec (exec=30s):"
      ],
      "metadata": {
        "id": "ji1moJBqbAeI"
      }
    },
    {
      "cell_type": "code",
      "source": [
        "# Entraîner un modèle Word2Vec sur les textes tokenisés\n",
        "word2vec_model = Word2Vec(sentences=df_train[\"tokens\"], vector_size=200, window=5, min_count=2, workers=4)\n",
        "\n",
        "# Vérifier quelques mots\n",
        "print(word2vec_model.wv.most_similar(\"chocolat\", topn=5))\n"
      ],
      "metadata": {
        "colab": {
          "base_uri": "https://localhost:8080/"
        },
        "id": "8U8VoXbavKk8",
        "outputId": "c10b8ff3-aa74-4ec4-89cc-7cc2c123667d"
      },
      "execution_count": null,
      "outputs": [
        {
          "output_type": "stream",
          "name": "stdout",
          "text": [
            "[('rhum', 0.6230478286743164), ('caramel', 0.6194989681243896), ('cacao', 0.6175707578659058), ('glaçage', 0.6172404885292053), ('mascarpone', 0.5820054411888123)]\n"
          ]
        }
      ]
    },
    {
      "cell_type": "markdown",
      "source": [
        "Conversion texte en embeddings :"
      ],
      "metadata": {
        "id": "T9hdIr0JbOLI"
      }
    },
    {
      "cell_type": "code",
      "source": [
        "# Fonction pour convertir un texte en vecteur moyen d'embeddings\n",
        "def text_to_embedding(text_tokens, model):\n",
        "    word_vectors = [model.wv[word] for word in text_tokens if word in model.wv]\n",
        "    if len(word_vectors) == 0:  # Si aucun mot du texte n'est dans le modèle\n",
        "        return np.zeros(model.vector_size)\n",
        "    return np.mean(word_vectors, axis=0)\n",
        "\n",
        "# Transformer tous les textes en embeddings\n",
        "X_train_embeddings = np.array([text_to_embedding(tokens, word2vec_model) for tokens in df_train[\"tokens\"]])\n",
        "X_test_embeddings = np.array([text_to_embedding(tokens, word2vec_model) for tokens in df_test[\"tokens\"]])\n"
      ],
      "metadata": {
        "id": "7AjUbXCAvL9M"
      },
      "execution_count": null,
      "outputs": []
    },
    {
      "cell_type": "markdown",
      "source": [
        "Encoder les labels :"
      ],
      "metadata": {
        "id": "frSWgyKSbbVu"
      }
    },
    {
      "cell_type": "code",
      "source": [
        "le = LabelEncoder()\n",
        "y_train_encoded = le.fit_transform(df_train[\"label\"])\n",
        "y_test_encoded = le.transform(df_test[\"label\"])\n",
        "\n",
        "print(X_train_embeddings.shape, X_test_embeddings.shape)"
      ],
      "metadata": {
        "colab": {
          "base_uri": "https://localhost:8080/"
        },
        "id": "vWG_lsTFbdOe",
        "outputId": "e5f83ae3-da1f-4a2f-b57f-5a65ebca7fc8"
      },
      "execution_count": null,
      "outputs": [
        {
          "output_type": "stream",
          "name": "stdout",
          "text": [
            "(12473, 200) (1388, 200)\n"
          ]
        }
      ]
    },
    {
      "cell_type": "markdown",
      "source": [
        "## Entraînement SVM avec embeddings (exec=40s)\n"
      ],
      "metadata": {
        "id": "zf8AgC2TGfAt"
      }
    },
    {
      "cell_type": "code",
      "source": [
        "# Créer et entraîner un modèle SVM\n",
        "svm_model = SVC()\n",
        "svm_model.fit(X_train_embeddings, y_train_encoded)\n",
        "\n",
        "# Prédiction et Évaluation\n",
        "y_pred = svm_model.predict(X_test_embeddings)\n",
        "\n",
        "accuracy = accuracy_score(y_test_encoded, y_pred)\n",
        "print(f\"Accuracy: {accuracy}\")\n",
        "\n",
        "# Afficher le classification report\n",
        "target_names = [str(cls) for cls in le.classes_]\n",
        "print(\"Classification Report:\\n\", classification_report(y_test_encoded, y_pred, target_names=target_names))\n"
      ],
      "metadata": {
        "colab": {
          "base_uri": "https://localhost:8080/"
        },
        "id": "Vq17cahavXn-",
        "outputId": "63ea5767-96af-4cd1-f6c7-ed127d07a93e"
      },
      "execution_count": null,
      "outputs": [
        {
          "output_type": "stream",
          "name": "stdout",
          "text": [
            "Accuracy: 0.8314121037463977\n",
            "Classification Report:\n",
            "               precision    recall  f1-score   support\n",
            "\n",
            "           0       0.95      0.99      0.97       407\n",
            "           1       0.75      0.50      0.60       337\n",
            "           2       0.79      0.90      0.84       644\n",
            "\n",
            "    accuracy                           0.83      1388\n",
            "   macro avg       0.83      0.80      0.80      1388\n",
            "weighted avg       0.83      0.83      0.82      1388\n",
            "\n"
          ]
        }
      ]
    },
    {
      "cell_type": "markdown",
      "source": [
        "### Résultats\n",
        "Reste bon avec environ 0.83 d'accuracy mais un moins bien qu'avec TF-IDF"
      ],
      "metadata": {
        "id": "vnpoaLSFLqrt"
      }
    },
    {
      "cell_type": "markdown",
      "source": [
        "## Autres modèles"
      ],
      "metadata": {
        "id": "NHeZ5vxRxwLm"
      }
    },
    {
      "cell_type": "markdown",
      "source": [
        "### Embeddings + Gaussian Naïve Bayes (exec=1s):"
      ],
      "metadata": {
        "id": "ufKGllV6cd8q"
      }
    },
    {
      "cell_type": "code",
      "source": [
        "# Modèle Naïve Bayes adapté aux données continues\n",
        "model_nb = GaussianNB()\n",
        "model_nb.fit(X_train_embeddings, y_train_encoded)\n",
        "y_pred_nb = model_nb.predict(X_test_embeddings)\n",
        "print(\"Naïve Bayes (GaussianNB) Accuracy:\", accuracy_score(y_test_encoded, y_pred_nb))\n",
        "print(\"Naïve Bayes Classification Report:\\n\", classification_report(y_test_encoded, y_pred_nb))"
      ],
      "metadata": {
        "colab": {
          "base_uri": "https://localhost:8080/"
        },
        "outputId": "f08f0aa5-f4db-4f8c-b5e9-80dbbd33525c",
        "id": "CAWakMNYx7KH"
      },
      "execution_count": null,
      "outputs": [
        {
          "output_type": "stream",
          "name": "stdout",
          "text": [
            "Naïve Bayes (GaussianNB) Accuracy: 0.7219020172910663\n",
            "Naïve Bayes Classification Report:\n",
            "               precision    recall  f1-score   support\n",
            "\n",
            "           0       0.85      0.94      0.89       407\n",
            "           1       0.47      0.53      0.50       337\n",
            "           2       0.79      0.69      0.74       644\n",
            "\n",
            "    accuracy                           0.72      1388\n",
            "   macro avg       0.70      0.72      0.71      1388\n",
            "weighted avg       0.73      0.72      0.72      1388\n",
            "\n"
          ]
        }
      ]
    },
    {
      "cell_type": "markdown",
      "source": [
        "GaussianNB : 0.72 d'accuracy"
      ],
      "metadata": {
        "id": "uNIqQ7tBb52F"
      }
    },
    {
      "cell_type": "markdown",
      "source": [
        "### Embeddings + Random Forest (exec=40s):"
      ],
      "metadata": {
        "id": "X6ExS38ecTr2"
      }
    },
    {
      "cell_type": "code",
      "source": [
        "# Modèle Random Forest\n",
        "model_rf = RandomForestClassifier(n_estimators=100, random_state=42)\n",
        "model_rf.fit(X_train_embeddings, y_train_encoded)\n",
        "y_pred_rf = model_rf.predict(X_test_embeddings)\n",
        "print(\"Random Forest Accuracy:\", accuracy_score(y_test_encoded, y_pred_rf))\n",
        "print(\"Random Forest Classification Report:\\n\", classification_report(y_test_encoded, y_pred_rf))"
      ],
      "metadata": {
        "colab": {
          "base_uri": "https://localhost:8080/"
        },
        "id": "NbvvLHIrb6Bj",
        "outputId": "f0766911-e52f-4f5e-c53a-dd13b0813095"
      },
      "execution_count": null,
      "outputs": [
        {
          "output_type": "stream",
          "name": "stdout",
          "text": [
            "Random Forest Accuracy: 0.797550432276657\n",
            "Random Forest Classification Report:\n",
            "               precision    recall  f1-score   support\n",
            "\n",
            "           0       0.90      0.98      0.94       407\n",
            "           1       0.68      0.40      0.51       337\n",
            "           2       0.77      0.89      0.82       644\n",
            "\n",
            "    accuracy                           0.80      1388\n",
            "   macro avg       0.78      0.76      0.76      1388\n",
            "weighted avg       0.79      0.80      0.78      1388\n",
            "\n"
          ]
        }
      ]
    },
    {
      "cell_type": "markdown",
      "source": [
        "Random Forest : 0.80 d'accuracy"
      ],
      "metadata": {
        "id": "9rMPcj1Nt_VS"
      }
    }
  ]
}